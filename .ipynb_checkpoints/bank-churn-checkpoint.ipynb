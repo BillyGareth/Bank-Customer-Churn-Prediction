{
 "cells": [
  {
   "cell_type": "markdown",
   "id": "9871ef57-a74c-47aa-aa58-b6b2e89d2dbf",
   "metadata": {},
   "source": [
    "### import libraries"
   ]
  },
  {
   "cell_type": "code",
   "execution_count": 3,
   "id": "81b38d84-6864-4510-a5b8-521b324bd2c4",
   "metadata": {
    "tags": []
   },
   "outputs": [],
   "source": [
    "# 1. to handle the data\n",
    "import pandas as pd\n",
    "import numpy as np\n",
    "\n",
    "# to visualize the dataset\n",
    "import matplotlib.pyplot as plt\n",
    "import seaborn as sns\n",
    "import plotly.express as px\n",
    "from plotly.subplots import make_subplots\n",
    "import plotly.graph_objects as go\n",
    "\n",
    "# this is for jupyter notebook to show the plot in the notebook itself instead of opening a new window\n",
    "%matplotlib inline\n",
    "\n",
    "# To preprocess the data\n",
    "from sklearn.preprocessing import StandardScaler, LabelEncoder, MinMaxScaler\n",
    "\n",
    "# machine learning\n",
    "from sklearn.model_selection import train_test_split\n",
    "from sklearn.model_selection import StratifiedKFold\n",
    "from sklearn.feature_extraction.text import TfidfVectorizer\n",
    "from sklearn.decomposition import TruncatedSVD\n",
    "#Model\n",
    "import lightgbm as lgb\n",
    "from catboost import CatBoostClassifier, Pool\n",
    "from catboost.utils import eval_metric\n",
    "\n",
    "#Evaluation\n",
    "from sklearn.metrics import roc_auc_score\n",
    "\n",
    "# ignore warnings   \n",
    "import warnings\n",
    "warnings.filterwarnings('ignore')"
   ]
  },
  {
   "cell_type": "markdown",
   "id": "7a36df56-fecb-4632-a205-bed741b31bb5",
   "metadata": {},
   "source": [
    "#### Dataset Description\n",
    "The dataset for this competition (both train and test) was generated from a deep learning model trained on the Bank Customer Churn Prediction dataset. Feature distributions are close to, but not exactly the same, as the original. Feel free to use the original dataset as part of this competition, both to explore differences as well as to see whether incorporating the original in training improves model performance.\n",
    "\n",
    "#### Files\n",
    "<b>train.csv</b> - the training dataset; Exited is the binary target\n",
    "\n",
    "<b>test.csv</b> - the test dataset; your objective is to predict the probability of Exited\n",
    "\n",
    "<b>sample_submission.csv</b> - a sample submission file in the correct format"
   ]
  },
  {
   "cell_type": "markdown",
   "id": "0704fc36-85b0-4d74-ba4e-c033e3481add",
   "metadata": {},
   "source": [
    "### Basic Exploratory Data Analysis"
   ]
  },
  {
   "cell_type": "markdown",
   "id": "75998d52-0723-4605-950e-2794063663a8",
   "metadata": {},
   "source": [
    "#### Loading the Dataset"
   ]
  },
  {
   "cell_type": "code",
   "execution_count": 5,
   "id": "db6cd227-850f-43d3-9930-21dc400bd9c1",
   "metadata": {
    "tags": []
   },
   "outputs": [],
   "source": [
    "# Load Submission Data \n",
    "df_submission = pd.read_csv('./sample_submission.csv')\n",
    "# Load test Data \n",
    "df_test = pd.read_csv('./test.csv')\n",
    "# Load Train Dataset and show head of Data \n",
    "#Train Data \n",
    "df_train = pd.read_csv('./train.csv')"
   ]
  },
  {
   "cell_type": "markdown",
   "id": "1021f45a-a1e8-4d7c-a8ad-8318a36f72c5",
   "metadata": {},
   "source": [
    "#### Making a Copy of the Test Data for Future Use "
   ]
  },
  {
   "cell_type": "code",
   "execution_count": 6,
   "id": "bbf8a008-856b-4c77-85ad-81626f9e3234",
   "metadata": {
    "tags": []
   },
   "outputs": [
    {
     "data": {
      "text/html": [
       "<div>\n",
       "<style scoped>\n",
       "    .dataframe tbody tr th:only-of-type {\n",
       "        vertical-align: middle;\n",
       "    }\n",
       "\n",
       "    .dataframe tbody tr th {\n",
       "        vertical-align: top;\n",
       "    }\n",
       "\n",
       "    .dataframe thead th {\n",
       "        text-align: right;\n",
       "    }\n",
       "</style>\n",
       "<table border=\"1\" class=\"dataframe\">\n",
       "  <thead>\n",
       "    <tr style=\"text-align: right;\">\n",
       "      <th></th>\n",
       "      <th>id</th>\n",
       "      <th>CustomerId</th>\n",
       "      <th>Surname</th>\n",
       "      <th>CreditScore</th>\n",
       "      <th>Geography</th>\n",
       "      <th>Gender</th>\n",
       "      <th>Age</th>\n",
       "      <th>Tenure</th>\n",
       "      <th>Balance</th>\n",
       "      <th>NumOfProducts</th>\n",
       "      <th>HasCrCard</th>\n",
       "      <th>IsActiveMember</th>\n",
       "      <th>EstimatedSalary</th>\n",
       "    </tr>\n",
       "  </thead>\n",
       "  <tbody>\n",
       "    <tr>\n",
       "      <th>0</th>\n",
       "      <td>165034</td>\n",
       "      <td>15773898</td>\n",
       "      <td>Lucchese</td>\n",
       "      <td>586</td>\n",
       "      <td>France</td>\n",
       "      <td>Female</td>\n",
       "      <td>23.0</td>\n",
       "      <td>2</td>\n",
       "      <td>0.00</td>\n",
       "      <td>2</td>\n",
       "      <td>0.0</td>\n",
       "      <td>1.0</td>\n",
       "      <td>160976.75</td>\n",
       "    </tr>\n",
       "    <tr>\n",
       "      <th>1</th>\n",
       "      <td>165035</td>\n",
       "      <td>15782418</td>\n",
       "      <td>Nott</td>\n",
       "      <td>683</td>\n",
       "      <td>France</td>\n",
       "      <td>Female</td>\n",
       "      <td>46.0</td>\n",
       "      <td>2</td>\n",
       "      <td>0.00</td>\n",
       "      <td>1</td>\n",
       "      <td>1.0</td>\n",
       "      <td>0.0</td>\n",
       "      <td>72549.27</td>\n",
       "    </tr>\n",
       "    <tr>\n",
       "      <th>2</th>\n",
       "      <td>165036</td>\n",
       "      <td>15807120</td>\n",
       "      <td>K?</td>\n",
       "      <td>656</td>\n",
       "      <td>France</td>\n",
       "      <td>Female</td>\n",
       "      <td>34.0</td>\n",
       "      <td>7</td>\n",
       "      <td>0.00</td>\n",
       "      <td>2</td>\n",
       "      <td>1.0</td>\n",
       "      <td>0.0</td>\n",
       "      <td>138882.09</td>\n",
       "    </tr>\n",
       "    <tr>\n",
       "      <th>3</th>\n",
       "      <td>165037</td>\n",
       "      <td>15808905</td>\n",
       "      <td>O'Donnell</td>\n",
       "      <td>681</td>\n",
       "      <td>France</td>\n",
       "      <td>Male</td>\n",
       "      <td>36.0</td>\n",
       "      <td>8</td>\n",
       "      <td>0.00</td>\n",
       "      <td>1</td>\n",
       "      <td>1.0</td>\n",
       "      <td>0.0</td>\n",
       "      <td>113931.57</td>\n",
       "    </tr>\n",
       "    <tr>\n",
       "      <th>4</th>\n",
       "      <td>165038</td>\n",
       "      <td>15607314</td>\n",
       "      <td>Higgins</td>\n",
       "      <td>752</td>\n",
       "      <td>Germany</td>\n",
       "      <td>Male</td>\n",
       "      <td>38.0</td>\n",
       "      <td>10</td>\n",
       "      <td>121263.62</td>\n",
       "      <td>1</td>\n",
       "      <td>1.0</td>\n",
       "      <td>0.0</td>\n",
       "      <td>139431.00</td>\n",
       "    </tr>\n",
       "  </tbody>\n",
       "</table>\n",
       "</div>"
      ],
      "text/plain": [
       "       id  CustomerId    Surname  CreditScore Geography  Gender   Age  Tenure  \\\n",
       "0  165034    15773898   Lucchese          586    France  Female  23.0       2   \n",
       "1  165035    15782418       Nott          683    France  Female  46.0       2   \n",
       "2  165036    15807120         K?          656    France  Female  34.0       7   \n",
       "3  165037    15808905  O'Donnell          681    France    Male  36.0       8   \n",
       "4  165038    15607314    Higgins          752   Germany    Male  38.0      10   \n",
       "\n",
       "     Balance  NumOfProducts  HasCrCard  IsActiveMember  EstimatedSalary  \n",
       "0       0.00              2        0.0             1.0        160976.75  \n",
       "1       0.00              1        1.0             0.0         72549.27  \n",
       "2       0.00              2        1.0             0.0        138882.09  \n",
       "3       0.00              1        1.0             0.0        113931.57  \n",
       "4  121263.62              1        1.0             0.0        139431.00  "
      ]
     },
     "execution_count": 6,
     "metadata": {},
     "output_type": "execute_result"
    }
   ],
   "source": [
    "df_test_ov = df_test.copy()\n",
    "df_test.head()"
   ]
  },
  {
   "cell_type": "code",
   "execution_count": 7,
   "id": "3fb6d323-df00-4efa-a9e8-697943c5ac55",
   "metadata": {
    "tags": []
   },
   "outputs": [],
   "source": [
    "# For Displaying Maximum Columns\n",
    "pd.set_option('display.max_columns', None)"
   ]
  },
  {
   "cell_type": "markdown",
   "id": "5cde0529-8160-4fec-bc51-eab9e000e0e5",
   "metadata": {},
   "source": [
    "#### Quick Overview"
   ]
  },
  {
   "cell_type": "code",
   "execution_count": 8,
   "id": "dd845fc8-f12d-48f1-b522-bfc7e9573529",
   "metadata": {
    "tags": []
   },
   "outputs": [
    {
     "data": {
      "text/html": [
       "<div>\n",
       "<style scoped>\n",
       "    .dataframe tbody tr th:only-of-type {\n",
       "        vertical-align: middle;\n",
       "    }\n",
       "\n",
       "    .dataframe tbody tr th {\n",
       "        vertical-align: top;\n",
       "    }\n",
       "\n",
       "    .dataframe thead th {\n",
       "        text-align: right;\n",
       "    }\n",
       "</style>\n",
       "<table border=\"1\" class=\"dataframe\">\n",
       "  <thead>\n",
       "    <tr style=\"text-align: right;\">\n",
       "      <th></th>\n",
       "      <th>id</th>\n",
       "      <th>CustomerId</th>\n",
       "      <th>Surname</th>\n",
       "      <th>CreditScore</th>\n",
       "      <th>Geography</th>\n",
       "      <th>Gender</th>\n",
       "      <th>Age</th>\n",
       "      <th>Tenure</th>\n",
       "      <th>Balance</th>\n",
       "      <th>NumOfProducts</th>\n",
       "      <th>HasCrCard</th>\n",
       "      <th>IsActiveMember</th>\n",
       "      <th>EstimatedSalary</th>\n",
       "      <th>Exited</th>\n",
       "    </tr>\n",
       "  </thead>\n",
       "  <tbody>\n",
       "    <tr>\n",
       "      <th>0</th>\n",
       "      <td>0</td>\n",
       "      <td>15674932</td>\n",
       "      <td>Okwudilichukwu</td>\n",
       "      <td>668</td>\n",
       "      <td>France</td>\n",
       "      <td>Male</td>\n",
       "      <td>33.0</td>\n",
       "      <td>3</td>\n",
       "      <td>0.0</td>\n",
       "      <td>2</td>\n",
       "      <td>1.0</td>\n",
       "      <td>0.0</td>\n",
       "      <td>181449.97</td>\n",
       "      <td>0</td>\n",
       "    </tr>\n",
       "    <tr>\n",
       "      <th>1</th>\n",
       "      <td>1</td>\n",
       "      <td>15749177</td>\n",
       "      <td>Okwudiliolisa</td>\n",
       "      <td>627</td>\n",
       "      <td>France</td>\n",
       "      <td>Male</td>\n",
       "      <td>33.0</td>\n",
       "      <td>1</td>\n",
       "      <td>0.0</td>\n",
       "      <td>2</td>\n",
       "      <td>1.0</td>\n",
       "      <td>1.0</td>\n",
       "      <td>49503.50</td>\n",
       "      <td>0</td>\n",
       "    </tr>\n",
       "    <tr>\n",
       "      <th>2</th>\n",
       "      <td>2</td>\n",
       "      <td>15694510</td>\n",
       "      <td>Hsueh</td>\n",
       "      <td>678</td>\n",
       "      <td>France</td>\n",
       "      <td>Male</td>\n",
       "      <td>40.0</td>\n",
       "      <td>10</td>\n",
       "      <td>0.0</td>\n",
       "      <td>2</td>\n",
       "      <td>1.0</td>\n",
       "      <td>0.0</td>\n",
       "      <td>184866.69</td>\n",
       "      <td>0</td>\n",
       "    </tr>\n",
       "  </tbody>\n",
       "</table>\n",
       "</div>"
      ],
      "text/plain": [
       "   id  CustomerId         Surname  CreditScore Geography Gender   Age  Tenure  \\\n",
       "0   0    15674932  Okwudilichukwu          668    France   Male  33.0       3   \n",
       "1   1    15749177   Okwudiliolisa          627    France   Male  33.0       1   \n",
       "2   2    15694510           Hsueh          678    France   Male  40.0      10   \n",
       "\n",
       "   Balance  NumOfProducts  HasCrCard  IsActiveMember  EstimatedSalary  Exited  \n",
       "0      0.0              2        1.0             0.0        181449.97       0  \n",
       "1      0.0              2        1.0             1.0         49503.50       0  \n",
       "2      0.0              2        1.0             0.0        184866.69       0  "
      ]
     },
     "execution_count": 8,
     "metadata": {},
     "output_type": "execute_result"
    }
   ],
   "source": [
    "df_train.head(n=3)"
   ]
  },
  {
   "cell_type": "code",
   "execution_count": 10,
   "id": "98fb9cb4-3ff8-4479-a8d5-0cb7c42c4fd6",
   "metadata": {
    "tags": []
   },
   "outputs": [
    {
     "data": {
      "text/html": [
       "<div>\n",
       "<style scoped>\n",
       "    .dataframe tbody tr th:only-of-type {\n",
       "        vertical-align: middle;\n",
       "    }\n",
       "\n",
       "    .dataframe tbody tr th {\n",
       "        vertical-align: top;\n",
       "    }\n",
       "\n",
       "    .dataframe thead th {\n",
       "        text-align: right;\n",
       "    }\n",
       "</style>\n",
       "<table border=\"1\" class=\"dataframe\">\n",
       "  <thead>\n",
       "    <tr style=\"text-align: right;\">\n",
       "      <th></th>\n",
       "      <th>id</th>\n",
       "      <th>CustomerId</th>\n",
       "      <th>Surname</th>\n",
       "      <th>CreditScore</th>\n",
       "      <th>Geography</th>\n",
       "      <th>Gender</th>\n",
       "      <th>Age</th>\n",
       "      <th>Tenure</th>\n",
       "      <th>Balance</th>\n",
       "      <th>NumOfProducts</th>\n",
       "      <th>HasCrCard</th>\n",
       "      <th>IsActiveMember</th>\n",
       "      <th>EstimatedSalary</th>\n",
       "    </tr>\n",
       "  </thead>\n",
       "  <tbody>\n",
       "    <tr>\n",
       "      <th>0</th>\n",
       "      <td>165034</td>\n",
       "      <td>15773898</td>\n",
       "      <td>Lucchese</td>\n",
       "      <td>586</td>\n",
       "      <td>France</td>\n",
       "      <td>Female</td>\n",
       "      <td>23.0</td>\n",
       "      <td>2</td>\n",
       "      <td>0.0</td>\n",
       "      <td>2</td>\n",
       "      <td>0.0</td>\n",
       "      <td>1.0</td>\n",
       "      <td>160976.75</td>\n",
       "    </tr>\n",
       "    <tr>\n",
       "      <th>1</th>\n",
       "      <td>165035</td>\n",
       "      <td>15782418</td>\n",
       "      <td>Nott</td>\n",
       "      <td>683</td>\n",
       "      <td>France</td>\n",
       "      <td>Female</td>\n",
       "      <td>46.0</td>\n",
       "      <td>2</td>\n",
       "      <td>0.0</td>\n",
       "      <td>1</td>\n",
       "      <td>1.0</td>\n",
       "      <td>0.0</td>\n",
       "      <td>72549.27</td>\n",
       "    </tr>\n",
       "    <tr>\n",
       "      <th>2</th>\n",
       "      <td>165036</td>\n",
       "      <td>15807120</td>\n",
       "      <td>K?</td>\n",
       "      <td>656</td>\n",
       "      <td>France</td>\n",
       "      <td>Female</td>\n",
       "      <td>34.0</td>\n",
       "      <td>7</td>\n",
       "      <td>0.0</td>\n",
       "      <td>2</td>\n",
       "      <td>1.0</td>\n",
       "      <td>0.0</td>\n",
       "      <td>138882.09</td>\n",
       "    </tr>\n",
       "  </tbody>\n",
       "</table>\n",
       "</div>"
      ],
      "text/plain": [
       "       id  CustomerId   Surname  CreditScore Geography  Gender   Age  Tenure  \\\n",
       "0  165034    15773898  Lucchese          586    France  Female  23.0       2   \n",
       "1  165035    15782418      Nott          683    France  Female  46.0       2   \n",
       "2  165036    15807120        K?          656    France  Female  34.0       7   \n",
       "\n",
       "   Balance  NumOfProducts  HasCrCard  IsActiveMember  EstimatedSalary  \n",
       "0      0.0              2        0.0             1.0        160976.75  \n",
       "1      0.0              1        1.0             0.0         72549.27  \n",
       "2      0.0              2        1.0             0.0        138882.09  "
      ]
     },
     "execution_count": 10,
     "metadata": {},
     "output_type": "execute_result"
    }
   ],
   "source": [
    "df_test.head(n=3)"
   ]
  },
  {
   "cell_type": "code",
   "execution_count": 11,
   "id": "c2916365-ff80-4806-8af1-140046ab8e87",
   "metadata": {
    "tags": []
   },
   "outputs": [
    {
     "data": {
      "text/html": [
       "<div>\n",
       "<style scoped>\n",
       "    .dataframe tbody tr th:only-of-type {\n",
       "        vertical-align: middle;\n",
       "    }\n",
       "\n",
       "    .dataframe tbody tr th {\n",
       "        vertical-align: top;\n",
       "    }\n",
       "\n",
       "    .dataframe thead th {\n",
       "        text-align: right;\n",
       "    }\n",
       "</style>\n",
       "<table border=\"1\" class=\"dataframe\">\n",
       "  <thead>\n",
       "    <tr style=\"text-align: right;\">\n",
       "      <th></th>\n",
       "      <th>id</th>\n",
       "      <th>Exited</th>\n",
       "    </tr>\n",
       "  </thead>\n",
       "  <tbody>\n",
       "    <tr>\n",
       "      <th>0</th>\n",
       "      <td>165034</td>\n",
       "      <td>0.5</td>\n",
       "    </tr>\n",
       "    <tr>\n",
       "      <th>1</th>\n",
       "      <td>165035</td>\n",
       "      <td>0.5</td>\n",
       "    </tr>\n",
       "    <tr>\n",
       "      <th>2</th>\n",
       "      <td>165036</td>\n",
       "      <td>0.5</td>\n",
       "    </tr>\n",
       "  </tbody>\n",
       "</table>\n",
       "</div>"
      ],
      "text/plain": [
       "       id  Exited\n",
       "0  165034     0.5\n",
       "1  165035     0.5\n",
       "2  165036     0.5"
      ]
     },
     "execution_count": 11,
     "metadata": {},
     "output_type": "execute_result"
    }
   ],
   "source": [
    "df_submission.head(n=3)"
   ]
  },
  {
   "cell_type": "markdown",
   "id": "a721feca-8684-4dd8-a7b6-a12f12af56b9",
   "metadata": {},
   "source": [
    "#### Shape of Datasets"
   ]
  },
  {
   "cell_type": "code",
   "execution_count": 12,
   "id": "890670f1-f686-4fb4-8f42-2c121bd74130",
   "metadata": {
    "tags": []
   },
   "outputs": [
    {
     "name": "stdout",
     "output_type": "stream",
     "text": [
      "Training Data:\n",
      "Number of Rows: 165034\n",
      "Number of Columns: 14\n",
      "\n",
      "Test Data:\n",
      "Number of Rows: 110023\n",
      "Number of Columns: 13\n",
      "\n",
      "Submission Data:\n",
      "Number of Rows: 110023\n",
      "Number of Columns: 2\n"
     ]
    }
   ],
   "source": [
    "# Checking the number of rows and columns\n",
    "\n",
    "num_train_rows, num_train_columns = df_train.shape\n",
    "\n",
    "num_test_rows, num_test_columns = df_test.shape\n",
    "\n",
    "num_submission_rows, num_submission_columns = df_submission.shape\n",
    "\n",
    "print(\"Training Data:\")\n",
    "print(f\"Number of Rows: {num_train_rows}\")\n",
    "print(f\"Number of Columns: {num_train_columns}\\n\")\n",
    "\n",
    "print(\"Test Data:\")\n",
    "print(f\"Number of Rows: {num_test_rows}\")\n",
    "print(f\"Number of Columns: {num_test_columns}\\n\")\n",
    "\n",
    "print(\"Submission Data:\")\n",
    "print(f\"Number of Rows: {num_submission_rows}\")\n",
    "print(f\"Number of Columns: {num_submission_columns}\")"
   ]
  },
  {
   "cell_type": "markdown",
   "id": "c08d1265-ef91-4c03-94f4-f760cf1267d7",
   "metadata": {},
   "source": [
    "#### Check for Null Values in Datasets"
   ]
  },
  {
   "cell_type": "code",
   "execution_count": 13,
   "id": "5d3731a5-ace3-40dc-9c87-ec3d42158fc0",
   "metadata": {
    "tags": []
   },
   "outputs": [
    {
     "name": "stdout",
     "output_type": "stream",
     "text": [
      "Null Count in Train: 0\n",
      "Null Count in Test: 0\n",
      "Null Count in Submission: 0\n"
     ]
    }
   ],
   "source": [
    "# Null Values in Train \n",
    "train_null = df_train.isnull().sum().sum()\n",
    "\n",
    "#Null Count in Test \n",
    "test_null = df_test.isnull().sum().sum()\n",
    "\n",
    "#null Count in Submission\n",
    "submission_null = df_submission.isnull().sum().sum()\n",
    "\n",
    "print(f'Null Count in Train: {train_null}')\n",
    "print(f'Null Count in Test: {test_null}')\n",
    "print(f'Null Count in Submission: {submission_null}')"
   ]
  },
  {
   "cell_type": "markdown",
   "id": "c410a51d-bf9c-484c-b8f3-536509330e9f",
   "metadata": {},
   "source": [
    "#### Duplicates Values in Datasets"
   ]
  },
  {
   "cell_type": "code",
   "execution_count": 14,
   "id": "1f0042b1-d78c-4b4b-856b-7c7f72918fe2",
   "metadata": {
    "tags": []
   },
   "outputs": [
    {
     "name": "stdout",
     "output_type": "stream",
     "text": [
      "Number of duplicate rows in train_data: 0\n",
      "Number of duplicate rows in test_data: 0\n",
      "Number of duplicate rows in test_data: 0\n"
     ]
    }
   ],
   "source": [
    "# Count duplicate rows in train_data\n",
    "train_duplicates = df_train.duplicated().sum()\n",
    "\n",
    "# Count duplicate rows in test_data\n",
    "test_duplicates = df_test.duplicated().sum()\n",
    "\n",
    "# Count duplicate rows in original_data\n",
    "submission_duplicates = df_submission.duplicated().sum()\n",
    "\n",
    "# Print the results\n",
    "print(f\"Number of duplicate rows in train_data: {train_duplicates}\")\n",
    "print(f\"Number of duplicate rows in test_data: {test_duplicates}\")\n",
    "print(f\"Number of duplicate rows in test_data: {submission_duplicates}\")"
   ]
  },
  {
   "cell_type": "markdown",
   "id": "ab586c2e-db3c-4a76-9ee5-2d2409cc4338",
   "metadata": {},
   "source": [
    "### Exploring the Train Dataset"
   ]
  },
  {
   "cell_type": "code",
   "execution_count": 15,
   "id": "1a04ba0c-3a99-4ad7-87b7-744dd49112ae",
   "metadata": {
    "tags": []
   },
   "outputs": [
    {
     "name": "stdout",
     "output_type": "stream",
     "text": [
      "Training Data:\n",
      "Number of Rows: 165034\n",
      "Number of Columns: 14\n",
      "\n"
     ]
    }
   ],
   "source": [
    "# Checking the number of rows and columns\n",
    "num_train_rows, num_train_columns = df_train.shape\n",
    "\n",
    "print(\"Training Data:\")\n",
    "print(f\"Number of Rows: {num_train_rows}\")\n",
    "print(f\"Number of Columns: {num_train_columns}\\n\")"
   ]
  },
  {
   "cell_type": "code",
   "execution_count": 16,
   "id": "73e96d36-e666-4eb2-a226-c3317be758e5",
   "metadata": {
    "tags": []
   },
   "outputs": [
    {
     "name": "stdout",
     "output_type": "stream",
     "text": [
      "<class 'pandas.core.frame.DataFrame'>\n",
      "RangeIndex: 165034 entries, 0 to 165033\n",
      "Data columns (total 14 columns):\n",
      " #   Column           Non-Null Count   Dtype  \n",
      "---  ------           --------------   -----  \n",
      " 0   id               165034 non-null  int64  \n",
      " 1   CustomerId       165034 non-null  int64  \n",
      " 2   Surname          165034 non-null  object \n",
      " 3   CreditScore      165034 non-null  int64  \n",
      " 4   Geography        165034 non-null  object \n",
      " 5   Gender           165034 non-null  object \n",
      " 6   Age              165034 non-null  float64\n",
      " 7   Tenure           165034 non-null  int64  \n",
      " 8   Balance          165034 non-null  float64\n",
      " 9   NumOfProducts    165034 non-null  int64  \n",
      " 10  HasCrCard        165034 non-null  float64\n",
      " 11  IsActiveMember   165034 non-null  float64\n",
      " 12  EstimatedSalary  165034 non-null  float64\n",
      " 13  Exited           165034 non-null  int64  \n",
      "dtypes: float64(5), int64(6), object(3)\n",
      "memory usage: 17.6+ MB\n"
     ]
    }
   ],
   "source": [
    "df_train.info()"
   ]
  },
  {
   "cell_type": "markdown",
   "id": "64c4eae8-866d-4fa8-99a4-89adf7edfeec",
   "metadata": {},
   "source": [
    "#### Observations:\n",
    "\n",
    "There are 165034 rows and 14 columns in the dataset.\n",
    "The columns having float datatypes are 5, integer datatype 6, object datatype are 3\n",
    "The data does not contain any missing values\n",
    "The target variable in the dataset is Exited."
   ]
  },
  {
   "cell_type": "markdown",
   "id": "624b6602-67cb-4faa-836c-2a9264f22607",
   "metadata": {},
   "source": [
    "### Descriptive Analysis"
   ]
  },
  {
   "cell_type": "code",
   "execution_count": 17,
   "id": "d9f8f89f-308f-47dc-82d4-bb10508927d8",
   "metadata": {
    "tags": []
   },
   "outputs": [
    {
     "data": {
      "text/html": [
       "<div>\n",
       "<style scoped>\n",
       "    .dataframe tbody tr th:only-of-type {\n",
       "        vertical-align: middle;\n",
       "    }\n",
       "\n",
       "    .dataframe tbody tr th {\n",
       "        vertical-align: top;\n",
       "    }\n",
       "\n",
       "    .dataframe thead th {\n",
       "        text-align: right;\n",
       "    }\n",
       "</style>\n",
       "<table border=\"1\" class=\"dataframe\">\n",
       "  <thead>\n",
       "    <tr style=\"text-align: right;\">\n",
       "      <th></th>\n",
       "      <th>id</th>\n",
       "      <th>CustomerId</th>\n",
       "      <th>CreditScore</th>\n",
       "      <th>Age</th>\n",
       "      <th>Tenure</th>\n",
       "      <th>Balance</th>\n",
       "      <th>NumOfProducts</th>\n",
       "      <th>HasCrCard</th>\n",
       "      <th>IsActiveMember</th>\n",
       "      <th>EstimatedSalary</th>\n",
       "      <th>Exited</th>\n",
       "    </tr>\n",
       "  </thead>\n",
       "  <tbody>\n",
       "    <tr>\n",
       "      <th>count</th>\n",
       "      <td>165034.0000</td>\n",
       "      <td>1.650340e+05</td>\n",
       "      <td>165034.000000</td>\n",
       "      <td>165034.000000</td>\n",
       "      <td>165034.000000</td>\n",
       "      <td>165034.000000</td>\n",
       "      <td>165034.000000</td>\n",
       "      <td>165034.000000</td>\n",
       "      <td>165034.000000</td>\n",
       "      <td>165034.000000</td>\n",
       "      <td>165034.000000</td>\n",
       "    </tr>\n",
       "    <tr>\n",
       "      <th>mean</th>\n",
       "      <td>82516.5000</td>\n",
       "      <td>1.569201e+07</td>\n",
       "      <td>656.454373</td>\n",
       "      <td>38.125888</td>\n",
       "      <td>5.020353</td>\n",
       "      <td>55478.086689</td>\n",
       "      <td>1.554455</td>\n",
       "      <td>0.753954</td>\n",
       "      <td>0.497770</td>\n",
       "      <td>112574.822734</td>\n",
       "      <td>0.211599</td>\n",
       "    </tr>\n",
       "    <tr>\n",
       "      <th>std</th>\n",
       "      <td>47641.3565</td>\n",
       "      <td>7.139782e+04</td>\n",
       "      <td>80.103340</td>\n",
       "      <td>8.867205</td>\n",
       "      <td>2.806159</td>\n",
       "      <td>62817.663278</td>\n",
       "      <td>0.547154</td>\n",
       "      <td>0.430707</td>\n",
       "      <td>0.499997</td>\n",
       "      <td>50292.865585</td>\n",
       "      <td>0.408443</td>\n",
       "    </tr>\n",
       "    <tr>\n",
       "      <th>min</th>\n",
       "      <td>0.0000</td>\n",
       "      <td>1.556570e+07</td>\n",
       "      <td>350.000000</td>\n",
       "      <td>18.000000</td>\n",
       "      <td>0.000000</td>\n",
       "      <td>0.000000</td>\n",
       "      <td>1.000000</td>\n",
       "      <td>0.000000</td>\n",
       "      <td>0.000000</td>\n",
       "      <td>11.580000</td>\n",
       "      <td>0.000000</td>\n",
       "    </tr>\n",
       "    <tr>\n",
       "      <th>25%</th>\n",
       "      <td>41258.2500</td>\n",
       "      <td>1.563314e+07</td>\n",
       "      <td>597.000000</td>\n",
       "      <td>32.000000</td>\n",
       "      <td>3.000000</td>\n",
       "      <td>0.000000</td>\n",
       "      <td>1.000000</td>\n",
       "      <td>1.000000</td>\n",
       "      <td>0.000000</td>\n",
       "      <td>74637.570000</td>\n",
       "      <td>0.000000</td>\n",
       "    </tr>\n",
       "    <tr>\n",
       "      <th>50%</th>\n",
       "      <td>82516.5000</td>\n",
       "      <td>1.569017e+07</td>\n",
       "      <td>659.000000</td>\n",
       "      <td>37.000000</td>\n",
       "      <td>5.000000</td>\n",
       "      <td>0.000000</td>\n",
       "      <td>2.000000</td>\n",
       "      <td>1.000000</td>\n",
       "      <td>0.000000</td>\n",
       "      <td>117948.000000</td>\n",
       "      <td>0.000000</td>\n",
       "    </tr>\n",
       "    <tr>\n",
       "      <th>75%</th>\n",
       "      <td>123774.7500</td>\n",
       "      <td>1.575682e+07</td>\n",
       "      <td>710.000000</td>\n",
       "      <td>42.000000</td>\n",
       "      <td>7.000000</td>\n",
       "      <td>119939.517500</td>\n",
       "      <td>2.000000</td>\n",
       "      <td>1.000000</td>\n",
       "      <td>1.000000</td>\n",
       "      <td>155152.467500</td>\n",
       "      <td>0.000000</td>\n",
       "    </tr>\n",
       "    <tr>\n",
       "      <th>max</th>\n",
       "      <td>165033.0000</td>\n",
       "      <td>1.581569e+07</td>\n",
       "      <td>850.000000</td>\n",
       "      <td>92.000000</td>\n",
       "      <td>10.000000</td>\n",
       "      <td>250898.090000</td>\n",
       "      <td>4.000000</td>\n",
       "      <td>1.000000</td>\n",
       "      <td>1.000000</td>\n",
       "      <td>199992.480000</td>\n",
       "      <td>1.000000</td>\n",
       "    </tr>\n",
       "  </tbody>\n",
       "</table>\n",
       "</div>"
      ],
      "text/plain": [
       "                id    CustomerId    CreditScore            Age         Tenure  \\\n",
       "count  165034.0000  1.650340e+05  165034.000000  165034.000000  165034.000000   \n",
       "mean    82516.5000  1.569201e+07     656.454373      38.125888       5.020353   \n",
       "std     47641.3565  7.139782e+04      80.103340       8.867205       2.806159   \n",
       "min         0.0000  1.556570e+07     350.000000      18.000000       0.000000   \n",
       "25%     41258.2500  1.563314e+07     597.000000      32.000000       3.000000   \n",
       "50%     82516.5000  1.569017e+07     659.000000      37.000000       5.000000   \n",
       "75%    123774.7500  1.575682e+07     710.000000      42.000000       7.000000   \n",
       "max    165033.0000  1.581569e+07     850.000000      92.000000      10.000000   \n",
       "\n",
       "             Balance  NumOfProducts      HasCrCard  IsActiveMember  \\\n",
       "count  165034.000000  165034.000000  165034.000000   165034.000000   \n",
       "mean    55478.086689       1.554455       0.753954        0.497770   \n",
       "std     62817.663278       0.547154       0.430707        0.499997   \n",
       "min         0.000000       1.000000       0.000000        0.000000   \n",
       "25%         0.000000       1.000000       1.000000        0.000000   \n",
       "50%         0.000000       2.000000       1.000000        0.000000   \n",
       "75%    119939.517500       2.000000       1.000000        1.000000   \n",
       "max    250898.090000       4.000000       1.000000        1.000000   \n",
       "\n",
       "       EstimatedSalary         Exited  \n",
       "count    165034.000000  165034.000000  \n",
       "mean     112574.822734       0.211599  \n",
       "std       50292.865585       0.408443  \n",
       "min          11.580000       0.000000  \n",
       "25%       74637.570000       0.000000  \n",
       "50%      117948.000000       0.000000  \n",
       "75%      155152.467500       0.000000  \n",
       "max      199992.480000       1.000000  "
      ]
     },
     "execution_count": 17,
     "metadata": {},
     "output_type": "execute_result"
    }
   ],
   "source": [
    "df_train.describe()"
   ]
  },
  {
   "cell_type": "markdown",
   "id": "4e28e290-deb8-45a1-91e4-4bf465c828c2",
   "metadata": {},
   "source": [
    "#### Checking The Null And Duplicate Values"
   ]
  },
  {
   "cell_type": "code",
   "execution_count": 19,
   "id": "05833510-5dbf-40b0-89ef-5b58e8331b2b",
   "metadata": {
    "tags": []
   },
   "outputs": [
    {
     "name": "stdout",
     "output_type": "stream",
     "text": [
      "Null Count in Train: 0\n"
     ]
    }
   ],
   "source": [
    "# Null Values in Train \n",
    "train_null = df_train.isnull().sum().sum()\n",
    "print(f'Null Count in Train: {train_null}')"
   ]
  },
  {
   "cell_type": "code",
   "execution_count": 20,
   "id": "b57d4988-b7a6-4edb-9541-842f2fee0008",
   "metadata": {
    "tags": []
   },
   "outputs": [
    {
     "data": {
      "image/png": "[encoded data removed]",
      "text/plain": [
       "<Figure size 640x480 with 1 Axes>"
      ]
     },
     "metadata": {},
     "output_type": "display_data"
    }
   ],
   "source": [
    "# visual proof \n",
    "sns.heatmap(df_train.isnull(), cbar=False)\n",
    "plt.show()"
   ]
  },
  {
   "cell_type": "code",
   "execution_count": 21,
   "id": "c1b0e99f-75a2-4cc9-bdbb-6878b344f1d7",
   "metadata": {
    "tags": []
   },
   "outputs": [
    {
     "name": "stdout",
     "output_type": "stream",
     "text": [
      "Number of duplicate rows in train_data: 0\n"
     ]
    }
   ],
   "source": [
    "# Count duplicate rows in train_data\n",
    "train_duplicates = df_train.duplicated().sum()\n",
    "\n",
    "# Print the results\n",
    "print(f\"Number of duplicate rows in train_data: {train_duplicates}\")"
   ]
  },
  {
   "cell_type": "markdown",
   "id": "6558ff56-2f52-4bec-9043-45b01720a0ce",
   "metadata": {},
   "source": [
    "### Lets Visualize the data"
   ]
  },
  {
   "cell_type": "code",
   "execution_count": 23,
   "id": "dee50274-0d50-4aa5-a8ab-4afe314976e2",
   "metadata": {
    "tags": []
   },
   "outputs": [
    {
     "data": {
      "image/png": "[encoded data removed]",
      "text/plain": [
       "<Figure size 500x100 with 1 Axes>"
      ]
     },
     "metadata": {},
     "output_type": "display_data"
    },
    {
     "data": {
      "image/png": "[encoded data removed]",
      "text/plain": [
       "<Figure size 500x100 with 1 Axes>"
      ]
     },
     "metadata": {},
     "output_type": "display_data"
    }
   ],
   "source": [
    "sns.set_style(\"white\")\n",
    "sns.set(rc={\"axes.facecolor\":\"#E8CE9D\",\"figure.facecolor\":\"#E8CE9D\",\"grid.color\":\"white\"})\n",
    "sns.set_context(\"poster\",font_scale = .7)\n",
    "\n",
    "# palette = [\"#432C0A\",\"#f7941d\",\"#6c9a76\",\"#f25a29\",\"#cc4b57\"]\n",
    "palette = [\"#764a23\",\"#f7941d\",\"#6c9a76\",\"#f25a29\",\"#cc4b57\"]\n",
    "palette_cmap = [\"#6c9a76\",\"#cc4b57\",\"#764a23\",\"#f25a29\",\"#f7941d\"]\n",
    "\n",
    "sns.palplot(sns.color_palette(palette))\n",
    "sns.palplot(sns.color_palette(palette_cmap))\n",
    "plt.show()"
   ]
  },
  {
   "cell_type": "markdown",
   "id": "879a30b7-3b13-4144-9b08-08ec131f8cb4",
   "metadata": {},
   "source": [
    "#### Gender In The Dataset"
   ]
  },
  {
   "cell_type": "code",
   "execution_count": 25,
   "id": "f6bc57bd-7607-433c-94bf-5f8f11fec482",
   "metadata": {
    "tags": []
   },
   "outputs": [
    {
     "data": {
      "image/png": "[encoded data removed]",
      "text/plain": [
       "<Figure size 1000x500 with 1 Axes>"
      ]
     },
     "metadata": {},
     "output_type": "display_data"
    }
   ],
   "source": [
    "fig = plt.figure(figsize=(10, 5))\n",
    "\n",
    "p = sns.countplot(y=\"Gender\", data=df_train, palette=palette[1:3], edgecolor='#26090b', linewidth=2, width=0.7)\n",
    "\n",
    "# Add text on top of the bars\n",
    "for container in p.containers:\n",
    "    plt.bar_label(container, label_type=\"center\", color='#26090b', fontsize=17, weight='bold', padding=6, position=(0.5, 0.5),\n",
    "                  bbox={\"boxstyle\": \"round\", \"pad\": 0.2, \"facecolor\": \"#e0b583\", \"edgecolor\": '#26090b', \"linewidth\": 2, \"alpha\": 1})\n",
    "\n",
    "plt.title(\"Distribution of Gender in df_train\")\n",
    "plt.xlabel(\"Count\")\n",
    "plt.ylabel(\"Gender\")\n",
    "\n",
    "plt.show()"
   ]
  },
  {
   "cell_type": "markdown",
   "id": "b4edf4ed-fda5-451e-97f0-6b39fead0b84",
   "metadata": {},
   "source": [
    "#### Geography In The Dataset"
   ]
  },
  {
   "cell_type": "code",
   "execution_count": 27,
   "id": "1c77dca0-69a8-4e88-a314-33297b72690f",
   "metadata": {
    "tags": []
   },
   "outputs": [
    {
     "data": {
      "image/png": "[encoded data removed]",
      "text/plain": [
       "<Figure size 1000x500 with 1 Axes>"
      ]
     },
     "metadata": {},
     "output_type": "display_data"
    }
   ],
   "source": [
    "fig = plt.figure(figsize=(10, 5))\n",
    "\n",
    "\n",
    "p = sns.countplot(y=\"Geography\", data=df_train, palette=palette[1:3], edgecolor='#26090b', linewidth=2, width=0.7)\n",
    "\n",
    "# Add text on top of the bars\n",
    "for container in p.containers:\n",
    "    plt.bar_label(container, label_type=\"center\", color='#26090b', fontsize=17, weight='bold', padding=6, position=(0.5, 0.5),\n",
    "                  bbox={\"boxstyle\": \"round\", \"pad\": 0.2, \"facecolor\": \"#e0b583\", \"edgecolor\": '#26090b', \"linewidth\": 2, \"alpha\": 1})\n",
    "\n",
    "plt.title(\"Distribution of Geography in df_train\")\n",
    "plt.xlabel(\"Count\")\n",
    "plt.ylabel(\"Geography\")\n",
    "\n",
    "plt.show()"
   ]
  },
  {
   "cell_type": "code",
   "execution_count": null,
   "id": "e5437a53-8189-4cd6-9793-360bb134a8a7",
   "metadata": {},
   "outputs": [],
   "source": []
  }
 ],
 "metadata": {
  "kernelspec": {
   "display_name": "Python 3 (ipykernel)",
   "language": "python",
   "name": "python3"
  },
  "language_info": {
   "codemirror_mode": {
    "name": "ipython",
    "version": 3
   },
   "file_extension": ".py",
   "mimetype": "text/x-python",
   "name": "python",
   "nbconvert_exporter": "python",
   "pygments_lexer": "ipython3",
   "version": "3.11.5"
  }
 },
 "nbformat": 4,
 "nbformat_minor": 5
}
